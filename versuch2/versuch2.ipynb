{
 "cells": [
  {
   "cell_type": "markdown",
   "metadata": {},
   "source": [
    "# Versuch 2 - Code\n",
    "\n",
    "Aufgabe 1 - Aufnahme und Analyse eines Grauwertkeiles"
   ]
  },
  {
   "cell_type": "markdown",
   "metadata": {},
   "source": [
    "*Belichtungsparameter:*\n",
    "Belichtung: -6\n",
    "Helligkeit: 150\n",
    "Kontrast: 32\n",
    "Sättigung: 27\n",
    "Schärfe: 119\n",
    "Weißabgleich: 7400\n",
    "Hintergrund: 1\n",
    "Verstärkung: 10\n",
    "Leistungsfrequenz: 60 Hz "
   ]
  },
  {
   "cell_type": "code",
   "execution_count": 2,
   "metadata": {},
   "outputs": [
    {
     "name": "stdout",
     "output_type": "stream",
     "text": [
      "Bereich      | Standardabweichung | Mittelwert\n",
      "----------------------------------------------\n",
      "schwarz      | 2.8370320796966553 | 29.443511962890625\n",
      "dunkelgrau   | 4.959405899047852 | 67.36009979248047\n",
      "mittelgrau   | 5.281680107116699 | 112.04337310791016\n",
      "hellgrau     | 5.793315887451172 | 150.98565673828125\n",
      "weiß         | 3.7496418952941895 | 195.5585479736328\n"
     ]
    }
   ],
   "source": [
    "import numpy as np\n",
    "import imageio\n",
    "import matplotlib.pyplot as plt\n",
    "import cv2\n",
    "\n",
    "image = cv2.imread(\"aufgabe1.2.png\") #Bild einlesen \n",
    "image = image.astype('float32') #in float umwandeln \n",
    "\n",
    "height, width = image.shape[:2]\n",
    "\n",
    "schwarz = image[0:height, 0:131]\n",
    "dunkelgrau = image[0:height, 131:270]\n",
    "mittelgrau = image[0:height, 270:410]\n",
    "hellgrau = image[0:height, 410:550]\n",
    "weiß = image[0:height, 550:640]\n",
    "\n",
    "\n",
    "cv2.imwrite(\"ergebnis_aufgabe1/black.png\", schwarz.astype('uint8'))\n",
    "cv2.imwrite(\"ergebnis_aufgabe1/dark1.png\", dunkelgrau.astype('uint8'))\n",
    "cv2.imwrite(\"ergebnis_aufgabe1/dark2.png\", mittelgrau.astype('uint8'))\n",
    "cv2.imwrite(\"ergebnis_aufgabe1/dark3.png\", hellgrau.astype('uint8'))\n",
    "cv2.imwrite(\"ergebnis_aufgabe1/white.png\", weiß.astype('uint8'))\n",
    "\n",
    "\n",
    "\n",
    "# Berechnen von Standardabweichung und Mittelwert für jeden Zuschnitt\n",
    "results = {\n",
    "    \"schwarz\": {\"std\": np.std(schwarz), \"mean\": np.mean(schwarz)},\n",
    "    \"dunkelgrau\": {\"std\": np.std(dunkelgrau), \"mean\": np.mean(dunkelgrau)},\n",
    "    \"mittelgrau\": {\"std\": np.std(mittelgrau), \"mean\": np.mean(mittelgrau)},\n",
    "    \"hellgrau\": {\"std\": np.std(hellgrau), \"mean\": np.mean(hellgrau)},\n",
    "    \"weiß\": {\"std\": np.std(weiß), \"mean\": np.mean(weiß)}\n",
    "}\n",
    "\n",
    "# Ausgabe der Ergebnisse\n",
    "print(\"Bereich      | Standardabweichung | Mittelwert\")\n",
    "print(\"----------------------------------------------\")\n",
    "for label, values in results.items():\n",
    "    print(\"{:<12} | {} | {}\".format(label, round(values[\"std\"], 6), round(values[\"mean\"], 6)))\n",
    "\n",
    "\n"
   ]
  },
  {
   "cell_type": "markdown",
   "metadata": {},
   "source": [
    "Aufgabe 2 - Aufnahme eines Dunkelbildes"
   ]
  },
  {
   "cell_type": "code",
   "execution_count": 3,
   "metadata": {},
   "outputs": [
    {
     "data": {
      "text/plain": [
       "True"
      ]
     },
     "execution_count": 3,
     "metadata": {},
     "output_type": "execute_result"
    }
   ],
   "source": [
    "image = \"aufgabe2_\"\n",
    "image2 = \"aufgabe3_1.png\"\n",
    "imagearray = []\n",
    "\n",
    "\n",
    "def darkmean(path):\n",
    "    for i in range(10):\n",
    "        img = cv2.imread(f\"{path}{i}.png\", cv2.IMREAD_GRAYSCALE)\n",
    "        if img is not None and img.shape[0] > 0 and img.shape[1] > 0:  # Überprüfung auf gültige Größe\n",
    "            # Skalierung auf gleiche Größe (z.B. 300x300)\n",
    "            img = cv2.resize(img, (300, 300))\n",
    "            imagearray.append(img)\n",
    "\n",
    "    return np.mean(imagearray, axis=0).astype(np.double)\n",
    "\n",
    "darkmean = darkmean(image)\n",
    "cv2.imwrite(\"ergebnis_aufgabe2/darkmean.png\", darkmean.astype('uint8'))\n",
    "\n",
    "def submeandark(img):\n",
    "    img = cv2.imread(img, cv2.IMREAD_GRAYSCALE)\n",
    "    img_gray_resized = cv2.resize(img, (300, 300))\n",
    "    return img_gray_resized - darkmean\n",
    "\n",
    "new_img = submeandark(image2)\n",
    "cv2.imwrite(\"ergebnis_aufgabe2/fixedimage.png\", new_img.astype('uint8'))\n"
   ]
  }
 ],
 "metadata": {
  "kernelspec": {
   "display_name": "base",
   "language": "python",
   "name": "python3"
  },
  "language_info": {
   "codemirror_mode": {
    "name": "ipython",
    "version": 3
   },
   "file_extension": ".py",
   "mimetype": "text/x-python",
   "name": "python",
   "nbconvert_exporter": "python",
   "pygments_lexer": "ipython3",
   "version": "3.11.8"
  }
 },
 "nbformat": 4,
 "nbformat_minor": 2
}
